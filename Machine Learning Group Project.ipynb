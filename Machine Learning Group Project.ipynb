{
 "cells": [
  {
   "cell_type": "code",
   "execution_count": 1,
   "id": "10c1477a",
   "metadata": {},
   "outputs": [
    {
     "name": "stderr",
     "output_type": "stream",
     "text": [
      "C:\\Users\\benfi\\anaconda3\\lib\\site-packages\\pandas\\core\\computation\\expressions.py:21: UserWarning: Pandas requires version '2.8.0' or newer of 'numexpr' (version '2.7.3' currently installed).\n",
      "  from pandas.core.computation.check import NUMEXPR_INSTALLED\n",
      "C:\\Users\\benfi\\anaconda3\\lib\\site-packages\\pandas\\core\\arrays\\masked.py:62: UserWarning: Pandas requires version '1.3.4' or newer of 'bottleneck' (version '1.3.2' currently installed).\n",
      "  from pandas.core import (\n"
     ]
    }
   ],
   "source": [
    "import pandas as pd\n",
    "import numpy as np"
   ]
  },
  {
   "cell_type": "code",
   "execution_count": 8,
   "id": "93950d03",
   "metadata": {},
   "outputs": [],
   "source": [
    "opel1df = pd.read_csv('opel_corsa_01.csv', sep=';')\n",
    "opel2df = pd.read_csv('opel_corsa_02.csv', sep=';')\n",
    "peug1df = pd.read_csv('peugeot_207_01.csv', sep =';')\n",
    "peug2df = pd.read_csv('peugeot_207_02.csv', sep=';')"
   ]
  },
  {
   "cell_type": "code",
   "execution_count": 10,
   "id": "7b73efb5",
   "metadata": {},
   "outputs": [],
   "source": [
    "alldf = pd.concat([opel1df,opel2df,peug1df,peug2df])"
   ]
  },
  {
   "cell_type": "code",
   "execution_count": 12,
   "id": "060b01aa",
   "metadata": {},
   "outputs": [
    {
     "name": "stdout",
     "output_type": "stream",
     "text": [
      "<class 'pandas.core.frame.DataFrame'>\n",
      "Index: 23775 entries, 0 to 4445\n",
      "Data columns (total 18 columns):\n",
      " #   Column                     Non-Null Count  Dtype  \n",
      "---  ------                     --------------  -----  \n",
      " 0   Unnamed: 0                 23775 non-null  int64  \n",
      " 1   AltitudeVariation          23775 non-null  float64\n",
      " 2   VehicleSpeedInstantaneous  23766 non-null  float64\n",
      " 3   VehicleSpeedAverage        23775 non-null  float64\n",
      " 4   VehicleSpeedVariance       23775 non-null  float64\n",
      " 5   VehicleSpeedVariation      23775 non-null  float64\n",
      " 6   LongitudinalAcceleration   23775 non-null  float64\n",
      " 7   EngineLoad                 23770 non-null  float64\n",
      " 8   EngineCoolantTemperature   23770 non-null  float64\n",
      " 9   ManifoldAbsolutePressure   23770 non-null  float64\n",
      " 10  EngineRPM                  23770 non-null  float64\n",
      " 11  MassAirFlow                23770 non-null  float64\n",
      " 12  IntakeAirTemperature       23770 non-null  float64\n",
      " 13  VerticalAcceleration       23775 non-null  float64\n",
      " 14  FuelConsumptionAverage     23770 non-null  float64\n",
      " 15  roadSurface                23775 non-null  object \n",
      " 16  traffic                    23775 non-null  object \n",
      " 17  drivingStyle               23775 non-null  object \n",
      "dtypes: float64(14), int64(1), object(3)\n",
      "memory usage: 3.4+ MB\n"
     ]
    }
   ],
   "source": [
    "alldf.info()"
   ]
  },
  {
   "cell_type": "code",
   "execution_count": 13,
   "id": "56567463",
   "metadata": {},
   "outputs": [
    {
     "name": "stdout",
     "output_type": "stream",
     "text": [
      "<class 'pandas.core.frame.DataFrame'>\n",
      "Index: 23762 entries, 0 to 4445\n",
      "Data columns (total 18 columns):\n",
      " #   Column                     Non-Null Count  Dtype  \n",
      "---  ------                     --------------  -----  \n",
      " 0   Unnamed: 0                 23762 non-null  int64  \n",
      " 1   AltitudeVariation          23762 non-null  float64\n",
      " 2   VehicleSpeedInstantaneous  23762 non-null  float64\n",
      " 3   VehicleSpeedAverage        23762 non-null  float64\n",
      " 4   VehicleSpeedVariance       23762 non-null  float64\n",
      " 5   VehicleSpeedVariation      23762 non-null  float64\n",
      " 6   LongitudinalAcceleration   23762 non-null  float64\n",
      " 7   EngineLoad                 23762 non-null  float64\n",
      " 8   EngineCoolantTemperature   23762 non-null  float64\n",
      " 9   ManifoldAbsolutePressure   23762 non-null  float64\n",
      " 10  EngineRPM                  23762 non-null  float64\n",
      " 11  MassAirFlow                23762 non-null  float64\n",
      " 12  IntakeAirTemperature       23762 non-null  float64\n",
      " 13  VerticalAcceleration       23762 non-null  float64\n",
      " 14  FuelConsumptionAverage     23762 non-null  float64\n",
      " 15  roadSurface                23762 non-null  object \n",
      " 16  traffic                    23762 non-null  object \n",
      " 17  drivingStyle               23762 non-null  object \n",
      "dtypes: float64(14), int64(1), object(3)\n",
      "memory usage: 3.4+ MB\n",
      "None\n"
     ]
    }
   ],
   "source": [
    "alldf = alldf.dropna()\n",
    "print(alldf.info())"
   ]
  },
  {
   "cell_type": "code",
   "execution_count": null,
   "id": "554e277f",
   "metadata": {},
   "outputs": [],
   "source": []
  }
 ],
 "metadata": {
  "kernelspec": {
   "display_name": "Python 3 (ipykernel)",
   "language": "python",
   "name": "python3"
  },
  "language_info": {
   "codemirror_mode": {
    "name": "ipython",
    "version": 3
   },
   "file_extension": ".py",
   "mimetype": "text/x-python",
   "name": "python",
   "nbconvert_exporter": "python",
   "pygments_lexer": "ipython3",
   "version": "3.9.7"
  }
 },
 "nbformat": 4,
 "nbformat_minor": 5
}
